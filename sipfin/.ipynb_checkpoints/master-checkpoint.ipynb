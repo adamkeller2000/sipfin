{
 "cells": [
  {
   "cell_type": "code",
   "execution_count": 4,
   "metadata": {},
   "outputs": [],
   "source": [
    "import pandas as pd\n",
    "import requests as r"
   ]
  },
  {
   "cell_type": "code",
   "execution_count": 5,
   "metadata": {},
   "outputs": [
    {
     "data": {
      "text/html": [
       "<div>\n",
       "<style scoped>\n",
       "    .dataframe tbody tr th:only-of-type {\n",
       "        vertical-align: middle;\n",
       "    }\n",
       "\n",
       "    .dataframe tbody tr th {\n",
       "        vertical-align: top;\n",
       "    }\n",
       "\n",
       "    .dataframe thead th {\n",
       "        text-align: right;\n",
       "    }\n",
       "</style>\n",
       "<table border=\"1\" class=\"dataframe\">\n",
       "  <thead>\n",
       "    <tr style=\"text-align: right;\">\n",
       "      <th></th>\n",
       "      <th>Unnamed: 0</th>\n",
       "      <th>id</th>\n",
       "      <th>company</th>\n",
       "      <th>form</th>\n",
       "      <th>date</th>\n",
       "      <th>link</th>\n",
       "      <th>link2</th>\n",
       "    </tr>\n",
       "  </thead>\n",
       "  <tbody>\n",
       "    <tr>\n",
       "      <th>0</th>\n",
       "      <td>19612156</td>\n",
       "      <td>1689923</td>\n",
       "      <td>Alteryx, Inc.</td>\n",
       "      <td>DEFA14A</td>\n",
       "      <td>2020-04-08</td>\n",
       "      <td>edgar/data/1689923/0001689923-20-000017.txt</td>\n",
       "      <td>edgar/data/1689923/0001689923-20-000017-index....</td>\n",
       "    </tr>\n",
       "    <tr>\n",
       "      <th>1</th>\n",
       "      <td>19612691</td>\n",
       "      <td>1709542</td>\n",
       "      <td>CannAssist International Corp</td>\n",
       "      <td>10-K</td>\n",
       "      <td>2020-04-08</td>\n",
       "      <td>edgar/data/1709542/0001214659-20-003250.txt</td>\n",
       "      <td>edgar/data/1709542/0001214659-20-003250-index....</td>\n",
       "    </tr>\n",
       "    <tr>\n",
       "      <th>2</th>\n",
       "      <td>19605078</td>\n",
       "      <td>1413032</td>\n",
       "      <td>Columbia Funds Variable Series Trust II</td>\n",
       "      <td>497</td>\n",
       "      <td>2020-04-08</td>\n",
       "      <td>edgar/data/1413032/0001193125-20-100986.txt</td>\n",
       "      <td>edgar/data/1413032/0001193125-20-100986-index....</td>\n",
       "    </tr>\n",
       "    <tr>\n",
       "      <th>3</th>\n",
       "      <td>19605079</td>\n",
       "      <td>1413032</td>\n",
       "      <td>Columbia Funds Variable Series Trust II</td>\n",
       "      <td>497</td>\n",
       "      <td>2020-04-08</td>\n",
       "      <td>edgar/data/1413032/0001193125-20-100992.txt</td>\n",
       "      <td>edgar/data/1413032/0001193125-20-100992-index....</td>\n",
       "    </tr>\n",
       "    <tr>\n",
       "      <th>4</th>\n",
       "      <td>19620904</td>\n",
       "      <td>887194</td>\n",
       "      <td>LORD ABBETT RESEARCH FUND INC</td>\n",
       "      <td>485BPOS</td>\n",
       "      <td>2020-04-08</td>\n",
       "      <td>edgar/data/887194/0000930413-20-001022.txt</td>\n",
       "      <td>edgar/data/887194/0000930413-20-001022-index.html</td>\n",
       "    </tr>\n",
       "    <tr>\n",
       "      <th>...</th>\n",
       "      <td>...</td>\n",
       "      <td>...</td>\n",
       "      <td>...</td>\n",
       "      <td>...</td>\n",
       "      <td>...</td>\n",
       "      <td>...</td>\n",
       "      <td>...</td>\n",
       "    </tr>\n",
       "    <tr>\n",
       "      <th>19622492</th>\n",
       "      <td>7</td>\n",
       "      <td>885723</td>\n",
       "      <td>SEARS EQUITY INVESTMENT TRUST SELECTED OPPORTU...</td>\n",
       "      <td>24F-2NT</td>\n",
       "      <td>1993-07-13</td>\n",
       "      <td>edgar/data/885723/0000950162-93-000185.txt</td>\n",
       "      <td>edgar/data/885723/0000950162-93-000185-index.html</td>\n",
       "    </tr>\n",
       "    <tr>\n",
       "      <th>19622493</th>\n",
       "      <td>3</td>\n",
       "      <td>926688</td>\n",
       "      <td>SMITH THOMAS W</td>\n",
       "      <td>13F-HR</td>\n",
       "      <td>1993-05-14</td>\n",
       "      <td>edgar/data/926688/9999999997-05-015657.txt</td>\n",
       "      <td>edgar/data/926688/9999999997-05-015657-index.html</td>\n",
       "    </tr>\n",
       "    <tr>\n",
       "      <th>19622494</th>\n",
       "      <td>2</td>\n",
       "      <td>880794</td>\n",
       "      <td>MERRILL LYNCH LIFE VARIABLE ANNUITY SEPARATE A...</td>\n",
       "      <td>POS AMI</td>\n",
       "      <td>1993-04-28</td>\n",
       "      <td>edgar/data/880794/9999999997-05-050434.txt</td>\n",
       "      <td>edgar/data/880794/9999999997-05-050434-index.html</td>\n",
       "    </tr>\n",
       "    <tr>\n",
       "      <th>19622495</th>\n",
       "      <td>0</td>\n",
       "      <td>880794</td>\n",
       "      <td>MERRILL LYNCH LIFE VARIABLE ANNUITY SEPARATE A...</td>\n",
       "      <td>NSAR-B</td>\n",
       "      <td>1993-02-26</td>\n",
       "      <td>edgar/data/880794/9999999997-05-050433.txt</td>\n",
       "      <td>edgar/data/880794/9999999997-05-050433-index.html</td>\n",
       "    </tr>\n",
       "    <tr>\n",
       "      <th>19622496</th>\n",
       "      <td>1</td>\n",
       "      <td>926688</td>\n",
       "      <td>SMITH THOMAS W</td>\n",
       "      <td>13F-HR</td>\n",
       "      <td>1993-02-12</td>\n",
       "      <td>edgar/data/926688/9999999997-05-015654.txt</td>\n",
       "      <td>edgar/data/926688/9999999997-05-015654-index.html</td>\n",
       "    </tr>\n",
       "  </tbody>\n",
       "</table>\n",
       "<p>19622497 rows × 7 columns</p>\n",
       "</div>"
      ],
      "text/plain": [
       "          Unnamed: 0       id  \\\n",
       "0           19612156  1689923   \n",
       "1           19612691  1709542   \n",
       "2           19605078  1413032   \n",
       "3           19605079  1413032   \n",
       "4           19620904   887194   \n",
       "...              ...      ...   \n",
       "19622492           7   885723   \n",
       "19622493           3   926688   \n",
       "19622494           2   880794   \n",
       "19622495           0   880794   \n",
       "19622496           1   926688   \n",
       "\n",
       "                                                    company     form  \\\n",
       "0                                             Alteryx, Inc.  DEFA14A   \n",
       "1                             CannAssist International Corp     10-K   \n",
       "2                   Columbia Funds Variable Series Trust II      497   \n",
       "3                   Columbia Funds Variable Series Trust II      497   \n",
       "4                             LORD ABBETT RESEARCH FUND INC  485BPOS   \n",
       "...                                                     ...      ...   \n",
       "19622492  SEARS EQUITY INVESTMENT TRUST SELECTED OPPORTU...  24F-2NT   \n",
       "19622493                                     SMITH THOMAS W   13F-HR   \n",
       "19622494  MERRILL LYNCH LIFE VARIABLE ANNUITY SEPARATE A...  POS AMI   \n",
       "19622495  MERRILL LYNCH LIFE VARIABLE ANNUITY SEPARATE A...   NSAR-B   \n",
       "19622496                                     SMITH THOMAS W   13F-HR   \n",
       "\n",
       "                date                                         link  \\\n",
       "0         2020-04-08  edgar/data/1689923/0001689923-20-000017.txt   \n",
       "1         2020-04-08  edgar/data/1709542/0001214659-20-003250.txt   \n",
       "2         2020-04-08  edgar/data/1413032/0001193125-20-100986.txt   \n",
       "3         2020-04-08  edgar/data/1413032/0001193125-20-100992.txt   \n",
       "4         2020-04-08   edgar/data/887194/0000930413-20-001022.txt   \n",
       "...              ...                                          ...   \n",
       "19622492  1993-07-13   edgar/data/885723/0000950162-93-000185.txt   \n",
       "19622493  1993-05-14   edgar/data/926688/9999999997-05-015657.txt   \n",
       "19622494  1993-04-28   edgar/data/880794/9999999997-05-050434.txt   \n",
       "19622495  1993-02-26   edgar/data/880794/9999999997-05-050433.txt   \n",
       "19622496  1993-02-12   edgar/data/926688/9999999997-05-015654.txt   \n",
       "\n",
       "                                                      link2  \n",
       "0         edgar/data/1689923/0001689923-20-000017-index....  \n",
       "1         edgar/data/1709542/0001214659-20-003250-index....  \n",
       "2         edgar/data/1413032/0001193125-20-100986-index....  \n",
       "3         edgar/data/1413032/0001193125-20-100992-index....  \n",
       "4         edgar/data/887194/0000930413-20-001022-index.html  \n",
       "...                                                     ...  \n",
       "19622492  edgar/data/885723/0000950162-93-000185-index.html  \n",
       "19622493  edgar/data/926688/9999999997-05-015657-index.html  \n",
       "19622494  edgar/data/880794/9999999997-05-050434-index.html  \n",
       "19622495  edgar/data/880794/9999999997-05-050433-index.html  \n",
       "19622496  edgar/data/926688/9999999997-05-015654-index.html  \n",
       "\n",
       "[19622497 rows x 7 columns]"
      ]
     },
     "execution_count": 5,
     "metadata": {},
     "output_type": "execute_result"
    }
   ],
   "source": [
    "df = pd.read_csv('master.csv')\n",
    "df"
   ]
  },
  {
   "cell_type": "code",
   "execution_count": 6,
   "metadata": {},
   "outputs": [
    {
     "data": {
      "text/plain": [
       "array([1689923, 1709542, 1413032, ...,  797458,  800262,  885723])"
      ]
     },
     "execution_count": 6,
     "metadata": {},
     "output_type": "execute_result"
    }
   ],
   "source": [
    "ids = df.id.unique()\n",
    "ids"
   ]
  },
  {
   "cell_type": "code",
   "execution_count": 7,
   "metadata": {},
   "outputs": [],
   "source": [
    "gb = df.groupby('id')"
   ]
  },
  {
   "cell_type": "code",
   "execution_count": 9,
   "metadata": {},
   "outputs": [
    {
     "ename": "IndexError",
     "evalue": "Column(s) company already selected",
     "output_type": "error",
     "traceback": [
      "\u001b[0;31m---------------------------------------------------------------------------\u001b[0m",
      "\u001b[0;31mIndexError\u001b[0m                                Traceback (most recent call last)",
      "\u001b[0;32m<ipython-input-9-426be8dc016a>\u001b[0m in \u001b[0;36m<module>\u001b[0;34m\u001b[0m\n\u001b[0;32m----> 1\u001b[0;31m \u001b[0mgb\u001b[0m\u001b[0;34m.\u001b[0m\u001b[0mcompany\u001b[0m\u001b[0;34m[\u001b[0m\u001b[0;36m1709542\u001b[0m\u001b[0;34m]\u001b[0m\u001b[0;34m\u001b[0m\u001b[0;34m\u001b[0m\u001b[0m\n\u001b[0m",
      "\u001b[0;32m~/.local/lib/python3.6/site-packages/pandas/core/base.py\u001b[0m in \u001b[0;36m__getitem__\u001b[0;34m(self, key)\u001b[0m\n\u001b[1;32m    213\u001b[0m     \u001b[0;32mdef\u001b[0m \u001b[0m__getitem__\u001b[0m\u001b[0;34m(\u001b[0m\u001b[0mself\u001b[0m\u001b[0;34m,\u001b[0m \u001b[0mkey\u001b[0m\u001b[0;34m)\u001b[0m\u001b[0;34m:\u001b[0m\u001b[0;34m\u001b[0m\u001b[0;34m\u001b[0m\u001b[0m\n\u001b[1;32m    214\u001b[0m         \u001b[0;32mif\u001b[0m \u001b[0mself\u001b[0m\u001b[0;34m.\u001b[0m\u001b[0m_selection\u001b[0m \u001b[0;32mis\u001b[0m \u001b[0;32mnot\u001b[0m \u001b[0;32mNone\u001b[0m\u001b[0;34m:\u001b[0m\u001b[0;34m\u001b[0m\u001b[0;34m\u001b[0m\u001b[0m\n\u001b[0;32m--> 215\u001b[0;31m             \u001b[0;32mraise\u001b[0m \u001b[0mIndexError\u001b[0m\u001b[0;34m(\u001b[0m\u001b[0;34mf\"Column(s) {self._selection} already selected\"\u001b[0m\u001b[0;34m)\u001b[0m\u001b[0;34m\u001b[0m\u001b[0;34m\u001b[0m\u001b[0m\n\u001b[0m\u001b[1;32m    216\u001b[0m \u001b[0;34m\u001b[0m\u001b[0m\n\u001b[1;32m    217\u001b[0m         \u001b[0;32mif\u001b[0m \u001b[0misinstance\u001b[0m\u001b[0;34m(\u001b[0m\u001b[0mkey\u001b[0m\u001b[0;34m,\u001b[0m \u001b[0;34m(\u001b[0m\u001b[0mlist\u001b[0m\u001b[0;34m,\u001b[0m \u001b[0mtuple\u001b[0m\u001b[0;34m,\u001b[0m \u001b[0mABCSeries\u001b[0m\u001b[0;34m,\u001b[0m \u001b[0mABCIndexClass\u001b[0m\u001b[0;34m,\u001b[0m \u001b[0mnp\u001b[0m\u001b[0;34m.\u001b[0m\u001b[0mndarray\u001b[0m\u001b[0;34m)\u001b[0m\u001b[0;34m)\u001b[0m\u001b[0;34m:\u001b[0m\u001b[0;34m\u001b[0m\u001b[0;34m\u001b[0m\u001b[0m\n",
      "\u001b[0;31mIndexError\u001b[0m: Column(s) company already selected"
     ]
    }
   ],
   "source": [
    "gb.company[1709542]"
   ]
  },
  {
   "cell_type": "code",
   "execution_count": 11,
   "metadata": {},
   "outputs": [
    {
     "ename": "AttributeError",
     "evalue": "'DataFrame' object has no attribute 'unique'",
     "output_type": "error",
     "traceback": [
      "\u001b[0;31m---------------------------------------------------------------------------\u001b[0m",
      "\u001b[0;31mAttributeError\u001b[0m                            Traceback (most recent call last)",
      "\u001b[0;32m<ipython-input-11-f82ae172fb55>\u001b[0m in \u001b[0;36m<module>\u001b[0;34m\u001b[0m\n\u001b[0;32m----> 1\u001b[0;31m \u001b[0mdf\u001b[0m\u001b[0;34m[\u001b[0m\u001b[0;34m[\u001b[0m\u001b[0;34m'id'\u001b[0m\u001b[0;34m,\u001b[0m \u001b[0;34m'company'\u001b[0m\u001b[0;34m]\u001b[0m\u001b[0;34m]\u001b[0m\u001b[0;34m.\u001b[0m\u001b[0munique\u001b[0m\u001b[0;34m(\u001b[0m\u001b[0;34m)\u001b[0m\u001b[0;34m\u001b[0m\u001b[0;34m\u001b[0m\u001b[0m\n\u001b[0m",
      "\u001b[0;32m~/.local/lib/python3.6/site-packages/pandas/core/generic.py\u001b[0m in \u001b[0;36m__getattr__\u001b[0;34m(self, name)\u001b[0m\n\u001b[1;32m   5272\u001b[0m             \u001b[0;32mif\u001b[0m \u001b[0mself\u001b[0m\u001b[0;34m.\u001b[0m\u001b[0m_info_axis\u001b[0m\u001b[0;34m.\u001b[0m\u001b[0m_can_hold_identifiers_and_holds_name\u001b[0m\u001b[0;34m(\u001b[0m\u001b[0mname\u001b[0m\u001b[0;34m)\u001b[0m\u001b[0;34m:\u001b[0m\u001b[0;34m\u001b[0m\u001b[0;34m\u001b[0m\u001b[0m\n\u001b[1;32m   5273\u001b[0m                 \u001b[0;32mreturn\u001b[0m \u001b[0mself\u001b[0m\u001b[0;34m[\u001b[0m\u001b[0mname\u001b[0m\u001b[0;34m]\u001b[0m\u001b[0;34m\u001b[0m\u001b[0;34m\u001b[0m\u001b[0m\n\u001b[0;32m-> 5274\u001b[0;31m             \u001b[0;32mreturn\u001b[0m \u001b[0mobject\u001b[0m\u001b[0;34m.\u001b[0m\u001b[0m__getattribute__\u001b[0m\u001b[0;34m(\u001b[0m\u001b[0mself\u001b[0m\u001b[0;34m,\u001b[0m \u001b[0mname\u001b[0m\u001b[0;34m)\u001b[0m\u001b[0;34m\u001b[0m\u001b[0;34m\u001b[0m\u001b[0m\n\u001b[0m\u001b[1;32m   5275\u001b[0m \u001b[0;34m\u001b[0m\u001b[0m\n\u001b[1;32m   5276\u001b[0m     \u001b[0;32mdef\u001b[0m \u001b[0m__setattr__\u001b[0m\u001b[0;34m(\u001b[0m\u001b[0mself\u001b[0m\u001b[0;34m,\u001b[0m \u001b[0mname\u001b[0m\u001b[0;34m:\u001b[0m \u001b[0mstr\u001b[0m\u001b[0;34m,\u001b[0m \u001b[0mvalue\u001b[0m\u001b[0;34m)\u001b[0m \u001b[0;34m->\u001b[0m \u001b[0;32mNone\u001b[0m\u001b[0;34m:\u001b[0m\u001b[0;34m\u001b[0m\u001b[0;34m\u001b[0m\u001b[0m\n",
      "\u001b[0;31mAttributeError\u001b[0m: 'DataFrame' object has no attribute 'unique'"
     ]
    }
   ],
   "source": [
    "df[['id', 'company']]"
   ]
  },
  {
   "cell_type": "code",
   "execution_count": null,
   "metadata": {},
   "outputs": [],
   "source": []
  }
 ],
 "metadata": {
  "file_extension": ".py",
  "kernelspec": {
   "display_name": "Python 3.6.9 64-bit",
   "language": "python",
   "name": "python36964bite3eb488b37ba48ddaf7a30a10f4cb8db"
  },
  "language_info": {
   "codemirror_mode": {
    "name": "ipython",
    "version": 3
   },
   "file_extension": ".py",
   "mimetype": "text/x-python",
   "name": "python",
   "nbconvert_exporter": "python",
   "pygments_lexer": "ipython3",
   "version": "3.6.9"
  },
  "mimetype": "text/x-python",
  "name": "python",
  "npconvert_exporter": "python",
  "pygments_lexer": "ipython3",
  "version": 3
 },
 "nbformat": 4,
 "nbformat_minor": 2
}
